{
 "cells": [
  {
   "cell_type": "code",
   "execution_count": 1,
   "id": "11544d23",
   "metadata": {},
   "outputs": [],
   "source": [
    "import pandas as pd\n",
    "import numpy as np\n",
    "import matplotlib.pyplot as plt\n",
    "import random\n",
    "from decisiontree import DecisionTreeModel as DT, accuracy_score "
   ]
  },
  {
   "cell_type": "markdown",
   "id": "5d28f304",
   "metadata": {},
   "source": [
    "## Feature -- 2 previous word and 2 after words around the Target\n",
    "### (Best Feature)"
   ]
  },
  {
   "cell_type": "code",
   "execution_count": null,
   "id": "7c5fef5c",
   "metadata": {},
   "outputs": [],
   "source": [
    "X_train = pd.read_csv('X_train_range2.csv')\n",
    "y_train = pd.read_csv('y_train_range2.csv')"
   ]
  },
  {
   "cell_type": "code",
   "execution_count": null,
   "id": "de51764d",
   "metadata": {},
   "outputs": [],
   "source": [
    "X_dev = pd.read_csv('X_dev_range2.csv')\n",
    "y_dev = pd.read_csv('y_dev_range2.csv')['Target']"
   ]
  },
  {
   "cell_type": "code",
   "execution_count": null,
   "id": "0714f9e3",
   "metadata": {},
   "outputs": [],
   "source": [
    "X_test = pd.read_csv('X_test_range2.csv')\n",
    "y_test = pd.read_csv('y_test_range2.csv')['Target']"
   ]
  },
  {
   "cell_type": "code",
   "execution_count": null,
   "id": "e8092179",
   "metadata": {},
   "outputs": [],
   "source": [
    "model1 = DT()"
   ]
  },
  {
   "cell_type": "code",
   "execution_count": null,
   "id": "6e3930c5",
   "metadata": {},
   "outputs": [],
   "source": [
    "model1.fit(X_train,y_train)"
   ]
  },
  {
   "cell_type": "code",
   "execution_count": null,
   "id": "7ee8f0cc",
   "metadata": {},
   "outputs": [],
   "source": [
    "y_dev_pred = model1.predict(X_dev)"
   ]
  },
  {
   "cell_type": "code",
   "execution_count": null,
   "id": "e46f13fe",
   "metadata": {},
   "outputs": [],
   "source": [
    "acc = accuracy_score(y_dev, y_dev_pred)\n",
    "acc"
   ]
  },
  {
   "cell_type": "code",
   "execution_count": null,
   "id": "492591ea",
   "metadata": {},
   "outputs": [],
   "source": [
    "# def accuracy_score(y_true, y_pred):\n",
    "#     accuracy = np.sum(y_true == y_pred) / len(y_true)\n",
    "#     return accuracy"
   ]
  },
  {
   "cell_type": "code",
   "execution_count": null,
   "id": "7af9df82",
   "metadata": {},
   "outputs": [],
   "source": [
    "# y_test = y_test['Target']"
   ]
  },
  {
   "cell_type": "code",
   "execution_count": null,
   "id": "12634f33",
   "metadata": {},
   "outputs": [],
   "source": []
  },
  {
   "cell_type": "markdown",
   "id": "c15907f5",
   "metadata": {},
   "source": [
    "## Feature -- 1 previous word"
   ]
  },
  {
   "cell_type": "code",
   "execution_count": null,
   "id": "b255dee1",
   "metadata": {},
   "outputs": [],
   "source": [
    "# get target around words list\n",
    "def _splitFeatures(sent, posi, rang):\n",
    "    sent = str(sent).split(\" \")\n",
    "    str_len = len(sent)\n",
    "    list = [sent[int(posi)-i] if int(posi)-i >=0 else \"<BEGIN_SENTENCE>\" for i in range(rang, 0, -1)] \\\n",
    "            + [sent[int(posi)+1+i] if int(posi)+1+i < str_len else \"<END_SENTENCE>\" for i in range(rang)]\n",
    "    return list"
   ]
  },
  {
   "cell_type": "code",
   "execution_count": null,
   "id": "2ce053f7",
   "metadata": {},
   "outputs": [],
   "source": [
    "# get one hot encoding dict\n",
    "def _onehot_map(vocabs):\n",
    "    df = pd.get_dummies(pd.Series(vocabs))\n",
    "    df['one_hot'] = df.apply(lambda x: ','.join(x.astype(str)), axis=1)\n",
    "    r = dict(zip(vocabs, df.one_hot))\n",
    "    return r"
   ]
  },
  {
   "cell_type": "code",
   "execution_count": null,
   "id": "8cc6e788",
   "metadata": {},
   "outputs": [],
   "source": [
    "# clean up raw data\n",
    "def _check_position(sent, posi):\n",
    "    sent = str(sent).split(\" \")\n",
    "    index = -1\n",
    "    if '_______' in sent:\n",
    "        index = sent.index('_______')\n",
    "    return posi == index"
   ]
  },
  {
   "cell_type": "code",
   "execution_count": null,
   "id": "5cbd19f7",
   "metadata": {},
   "outputs": [],
   "source": [
    "# create dataset\n",
    "def _create_dataset(file, rang, vocabs_oh=None):\n",
    "    # get file content into DF\n",
    "    df = pd.DataFrame(open(file, \"r\").readlines(), columns = ['ORG_DATA'])\n",
    "\n",
    "    # split into 3 columns\n",
    "    df[['Target', 'Position', 'Sentence']] = df.ORG_DATA.apply(lambda x: pd.Series(str(x).split(\" \", 2)))\n",
    "    \n",
    "    # clean up\n",
    "    df['check'] = df.apply(lambda x : _check_position(x['Sentence'], int(x['Position'])), axis = 1)\n",
    "    df = df[df['check']]\n",
    "    \n",
    "    # get words list around target for each sample\n",
    "    df['Words_List'] = df.apply(lambda x : _splitFeatures(x['Sentence'], x['Position'], rang), axis = 1)\n",
    "    \n",
    "    # create vocabulary using Train dataset. Re-use the vovabulary for Dev and Test dataset\n",
    "    if vocabs_oh == None:\n",
    "        # get vocabulary(unique words)\n",
    "        vocabs = df['Words_List'].explode().unique()\n",
    "        vocabs = np.append(vocabs, '<UNKNOWN_WORD>')\n",
    "        # one hot mapping based on vocabs\n",
    "        vocabs_oh = _onehot_map(vocabs)\n",
    "    \n",
    "    # replace each word with one hot mapping\n",
    "    X = pd.DataFrame(df.Words_List.tolist(), index = df.index)\n",
    "    X.columns = range(rang*2)  \n",
    "    X = X.applymap(lambda i: vocabs_oh[i] if i in vocabs_oh else vocabs_oh['<UNKNOWN_WORD>'])\n",
    "    \n",
    "    # Generate one hot mapped feature dataframe\n",
    "    temp = X.apply(lambda x: ','.join(x.astype(str)), axis=1)\n",
    "    Xs = temp.apply(lambda x: pd.Series(str(x).split(\",\")))\n",
    "    \n",
    "    y = df['Target']\n",
    "    \n",
    "    return Xs, y, vocabs_oh"
   ]
  },
  {
   "cell_type": "code",
   "execution_count": null,
   "id": "d264fb01",
   "metadata": {},
   "outputs": [],
   "source": []
  },
  {
   "cell_type": "code",
   "execution_count": null,
   "id": "73fd1a38",
   "metadata": {},
   "outputs": [],
   "source": [
    "model2.fit(X_micro,y_micro)"
   ]
  },
  {
   "cell_type": "code",
   "execution_count": null,
   "id": "d1d26915",
   "metadata": {},
   "outputs": [],
   "source": [
    "y_pred = model2.predict(X_test)"
   ]
  },
  {
   "cell_type": "code",
   "execution_count": null,
   "id": "e94ec18d",
   "metadata": {},
   "outputs": [],
   "source": [
    "y_test = y_test['Target']"
   ]
  },
  {
   "cell_type": "code",
   "execution_count": null,
   "id": "515d6afb",
   "metadata": {},
   "outputs": [],
   "source": [
    "acc = accuracy_score(y_test, y_pred)"
   ]
  },
  {
   "cell_type": "code",
   "execution_count": null,
   "id": "ce730e2d",
   "metadata": {},
   "outputs": [],
   "source": [
    "acc"
   ]
  },
  {
   "cell_type": "code",
   "execution_count": null,
   "id": "68d6102d",
   "metadata": {},
   "outputs": [],
   "source": []
  }
 ],
 "metadata": {
  "kernelspec": {
   "display_name": "Python 3 (ipykernel)",
   "language": "python",
   "name": "python3"
  },
  "language_info": {
   "codemirror_mode": {
    "name": "ipython",
    "version": 3
   },
   "file_extension": ".py",
   "mimetype": "text/x-python",
   "name": "python",
   "nbconvert_exporter": "python",
   "pygments_lexer": "ipython3",
   "version": "3.9.6"
  }
 },
 "nbformat": 4,
 "nbformat_minor": 5
}
